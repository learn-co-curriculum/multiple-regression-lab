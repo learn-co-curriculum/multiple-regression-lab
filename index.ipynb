{
 "cells": [
  {
   "cell_type": "markdown",
   "metadata": {},
   "source": [
    "# Multiple Regression Lab\n",
    "\n",
    "## Objectives\n",
    "\n",
    "* Use OLS Regression to fit a model to the Boston Housing Prices data set\n",
    "* Interpret important regression measures such as R<sup>2</sup> and F-statistics\n",
    "* Interpret p-values on individual features to determine which features should be removed from the model\n",
    "* Use OLS Regression to predict housing prices for the Boston Housing Prices data set\n",
    "\n",
    "## Getting Started with Multiple Regression\n",
    "\n"
   ]
  },
  {
   "cell_type": "code",
   "execution_count": null,
   "metadata": {},
   "outputs": [],
   "source": []
  }
 ],
 "metadata": {
  "kernelspec": {
   "display_name": "Python 3",
   "language": "python",
   "name": "python3"
  },
  "language_info": {
   "codemirror_mode": {
    "name": "ipython",
    "version": 3
   },
   "file_extension": ".py",
   "mimetype": "text/x-python",
   "name": "python",
   "nbconvert_exporter": "python",
   "pygments_lexer": "ipython3",
   "version": "3.6.4"
  }
 },
 "nbformat": 4,
 "nbformat_minor": 2
}
